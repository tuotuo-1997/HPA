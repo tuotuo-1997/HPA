{
 "cells": [
  {
   "cell_type": "code",
   "execution_count": 1,
   "metadata": {},
   "outputs": [],
   "source": [
    "import os\n",
    "import cv2\n",
    "import glob\n",
    "import warnings\n",
    "import numpy as np\n",
    "import pandas as pd\n",
    "import matplotlib.pyplot as plt\n",
    "import hpacellseg.cellsegmentator as cellsegmentator\n",
    "\n",
    "from tqdm import tqdm\n",
    "from PIL import Image\n",
    "from hpacellseg.utils import label_cell, label_nuclei\n",
    "\n",
    "warnings.filterwarnings('ignore')"
   ]
  },
  {
   "cell_type": "code",
   "execution_count": 2,
   "metadata": {
    "scrolled": true
   },
   "outputs": [
    {
     "name": "stdout",
     "output_type": "stream",
     "text": [
      "please compile abn\n"
     ]
    }
   ],
   "source": [
    "# 运行时会下载预训练模型\n",
    "\n",
    "NUC_MODEL = \"./nuclei_model.pth\"\n",
    "CELL_MODEL = \"./cell_model.pth\"\n",
    "segmentator = cellsegmentator.CellSegmentator(\n",
    "    NUC_MODEL,\n",
    "    CELL_MODEL,\n",
    "    scale_factor=0.25,\n",
    "    device=\"cuda\",\n",
    "    # NOTE: setting padding=True seems to solve most issues that have been encountered\n",
    "    #       during our single cell Kaggle challenge.\n",
    "    padding=True,\n",
    "    multi_channel_model=True,\n",
    ")"
   ]
  },
  {
   "cell_type": "markdown",
   "metadata": {},
   "source": [
    "# 这部分是测试集细胞提取，训练集你可以从下面连接下载:  \n",
    "# https://www.kaggle.com/its7171/hpa-mask"
   ]
  },
  {
   "cell_type": "code",
   "execution_count": 3,
   "metadata": {},
   "outputs": [],
   "source": [
    "test_list = glob.glob('../../input/hpa-single-cell-image-classification/test/*.png')\n",
    "test_list = list(set([item.split('_')[0] for item in test_list]))\n",
    "test_list.sort()"
   ]
  },
  {
   "cell_type": "code",
   "execution_count": 4,
   "metadata": {},
   "outputs": [],
   "source": [
    "cell_dir = '../../input/hpa-mask/test/hpa_cell_mask/'\n",
    "nucl_dir = '../../input/hpa-mask/test/hpa_nuclei_mask/'\n",
    "os.makedirs(cell_dir, exist_ok=True)\n",
    "os.makedirs(nucl_dir, exist_ok=True)"
   ]
  },
  {
   "cell_type": "code",
   "execution_count": 5,
   "metadata": {},
   "outputs": [
    {
     "name": "stderr",
     "output_type": "stream",
     "text": [
      "100%|██████████| 1/1 [00:06<00:00,  6.87s/it]\n"
     ]
    }
   ],
   "source": [
    "for item in tqdm(test_list):\n",
    "    images = [\n",
    "        [item + '_red.png'],\n",
    "        [item + '_yellow.png'],\n",
    "        [item + '_blue.png']\n",
    "    ]\n",
    "    \n",
    "    # image id\n",
    "    image_id = item.split('/')[-1]\n",
    "    \n",
    "    # For nuclei\n",
    "    nuc_segmentations = segmentator.pred_nuclei(images[2])\n",
    "    \n",
    "    # For full cells\n",
    "    cell_segmentations = segmentator.pred_cells(images)\n",
    "    \n",
    "    # post-processing\n",
    "    nucl_mask = label_nuclei(nuc_segmentations[0])\n",
    "    nucl_mask, cell_mask = label_cell(nuc_segmentations[0], cell_segmentations[0])\n",
    "    \n",
    "    # save\n",
    "    np.savez_compressed(f'{cell_dir}/{image_id}', cell_mask)\n",
    "    np.savez_compressed(f'{nucl_dir}/{image_id}', nucl_mask)"
   ]
  },
  {
   "cell_type": "code",
   "execution_count": null,
   "metadata": {},
   "outputs": [],
   "source": []
  }
 ],
 "metadata": {
  "kernelspec": {
   "display_name": "Python 3",
   "language": "python",
   "name": "python3"
  },
  "language_info": {
   "codemirror_mode": {
    "name": "ipython",
    "version": 3
   },
   "file_extension": ".py",
   "mimetype": "text/x-python",
   "name": "python",
   "nbconvert_exporter": "python",
   "pygments_lexer": "ipython3",
   "version": "3.8.5"
  }
 },
 "nbformat": 4,
 "nbformat_minor": 4
}
