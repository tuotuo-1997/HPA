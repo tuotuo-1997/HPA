{
 "cells": [
  {
   "cell_type": "code",
   "execution_count": null,
   "metadata": {},
   "outputs": [],
   "source": [
    "from fastai.vision.all import *\n",
    "import pandas as pd\n",
    "import numpy as np\n",
    "import os\n",
    "from PIL import Image\n",
    "from tqdm import tqdm\n",
    "import cv2\n",
    "import matplotlib.pyplot as plt\n",
    "import seaborn as sns\n",
    "from multiprocessing import Pool\n",
    "\n",
    "import base64\n",
    "from pycocotools import _mask as coco_mask\n",
    "import typing as t\n",
    "import zlib\n",
    "\n",
    "%matplotlib inline"
   ]
  },
  {
   "cell_type": "code",
   "execution_count": null,
   "metadata": {},
   "outputs": [],
   "source": [
    "ROOT = '../input/hpa-single-cell-image-classification/'\n",
    "cell_mask_dir = '../input/hpa-mask/test/hpa_cell_mask'\n",
    "train_or_test = 'test'"
   ]
  },
  {
   "cell_type": "code",
   "execution_count": null,
   "metadata": {},
   "outputs": [],
   "source": [
    "def encode_binary_mask(mask: np.ndarray) -> t.Text:\n",
    "    \"\"\"Converts a binary mask into OID challenge encoding ascii text.\"\"\"\n",
    "\n",
    "    # check input mask --\n",
    "    if mask.dtype != np.bool:\n",
    "        raise ValueError(\n",
    "            \"encode_binary_mask expects a binary mask, received dtype == %s\" %\n",
    "            mask.dtype)\n",
    "\n",
    "    mask = np.squeeze(mask)\n",
    "    if len(mask.shape) != 2:\n",
    "        raise ValueError(\n",
    "            \"encode_binary_mask expects a 2d mask, received shape == %s\" %\n",
    "            mask.shape)\n",
    "\n",
    "    # convert input mask to expected COCO API input --\n",
    "    mask_to_encode = mask.reshape(mask.shape[0], mask.shape[1], 1)\n",
    "    mask_to_encode = mask_to_encode.astype(np.uint8)\n",
    "    mask_to_encode = np.asfortranarray(mask_to_encode)\n",
    "\n",
    "    # RLE encode mask --\n",
    "    encoded_mask = coco_mask.encode(mask_to_encode)[0][\"counts\"]\n",
    "\n",
    "    # compress and base64 encoding --\n",
    "    binary_str = zlib.compress(encoded_mask, zlib.Z_BEST_COMPRESSION)\n",
    "    base64_str = base64.b64encode(binary_str)\n",
    "    return base64_str.decode('ascii')"
   ]
  },
  {
   "cell_type": "code",
   "execution_count": null,
   "metadata": {},
   "outputs": [],
   "source": [
    "def decodeToBinaryMask(rleCodedStr, imWidth, imHeight):\n",
    "    uncodedStr = base64.b64decode(rleCodedStr)\n",
    "    uncompressedStr = zlib.decompress(uncodedStr,wbits = zlib.MAX_WBITS)   \n",
    "    detection ={\n",
    "        'size': [imWidth, imHeight],\n",
    "        'counts': uncompressedStr\n",
    "    }\n",
    "    detlist = []\n",
    "    detlist.append(detection)\n",
    "    mask = coco_mask.decode(detlist)\n",
    "    binaryMask = mask.astype('bool') \n",
    "    return binaryMask"
   ]
  },
  {
   "cell_type": "code",
   "execution_count": null,
   "metadata": {},
   "outputs": [],
   "source": [
    "def get_cropped_cell(img, msk):\n",
    "    bmask = msk.astype(int)[...,None]\n",
    "    masked_img = img * bmask\n",
    "    true_points = np.argwhere(bmask)\n",
    "    top_left = true_points.min(axis=0)\n",
    "    bottom_right = true_points.max(axis=0)\n",
    "    cropped_arr = masked_img[top_left[0]:bottom_right[0]+1,top_left[1]:bottom_right[1]+1]\n",
    "    return cropped_arr"
   ]
  },
  {
   "cell_type": "code",
   "execution_count": null,
   "metadata": {},
   "outputs": [],
   "source": [
    "def read_img(image_id, color, train_or_test='train', image_size=None):\n",
    "    filename = f'{ROOT}/{train_or_test}/{image_id}_{color}.png'\n",
    "    assert os.path.exists(filename), f'not found {filename}'\n",
    "    img = cv2.imread(filename, cv2.IMREAD_UNCHANGED)\n",
    "    return img"
   ]
  },
  {
   "cell_type": "code",
   "execution_count": null,
   "metadata": {},
   "outputs": [],
   "source": [
    "def pred_one_img(image_id, class_num=19, thres=0.4):\n",
    "    cell_mask = np.load(f'{cell_mask_dir}/{image_id}.npz')['arr_0']\n",
    "    red = read_img(image_id, \"red\", train_or_test, None)\n",
    "    \n",
    "    PS = []\n",
    "    for cell in range(1, np.max(cell_mask) + 1):\n",
    "        bmask = cell_mask == cell\n",
    "        encoder = encode_binary_mask(bmask)\n",
    "\n",
    "        fname = f'{image_id}_{cell}'\n",
    "        \n",
    "        pred_score = pred_dict[fname]\n",
    "        \n",
    "        for i in range(class_num):\n",
    "            PS.append(' '.join([str(i), str(pred_score[i]), encoder]))\n",
    "            \n",
    "    PS = ' '.join(PS)\n",
    "    \n",
    "    return PS"
   ]
  },
  {
   "cell_type": "code",
   "execution_count": null,
   "metadata": {},
   "outputs": [],
   "source": [
    "pred_img_lst = np.load('../result/imgs.npy')\n",
    "pred_img_lst = ['_'.join(item.split('_')[:2]) for item in pred_img_lst]\n",
    "pred_probs_lst = np.load('../result/probs.npy')\n",
    "\n",
    "pred_dict = dict(zip(pred_img_lst, pred_probs_lst))"
   ]
  },
  {
   "cell_type": "code",
   "execution_count": null,
   "metadata": {},
   "outputs": [],
   "source": [
    "sb = pd.read_csv('../input/hpa-single-cell-image-classification/sample_submission.csv'); sb.head()"
   ]
  },
  {
   "cell_type": "code",
   "execution_count": null,
   "metadata": {},
   "outputs": [],
   "source": [
    "for idx in tqdm(range(len(sb))):\n",
    "    \n",
    "    ID = sb.loc[idx]['ID']\n",
    "    PS = pred_one_img(ID)\n",
    "    \n",
    "    sb.loc[idx, 'PredictionString'] = PS"
   ]
  },
  {
   "cell_type": "code",
   "execution_count": null,
   "metadata": {},
   "outputs": [],
   "source": [
    "sb.to_csv('../result/submission.csv', index=None)"
   ]
  },
  {
   "cell_type": "code",
   "execution_count": null,
   "metadata": {},
   "outputs": [],
   "source": []
  }
 ],
 "metadata": {
  "kernelspec": {
   "display_name": "Python 3",
   "language": "python",
   "name": "python3"
  },
  "language_info": {
   "codemirror_mode": {
    "name": "ipython",
    "version": 3
   },
   "file_extension": ".py",
   "mimetype": "text/x-python",
   "name": "python",
   "nbconvert_exporter": "python",
   "pygments_lexer": "ipython3",
   "version": "3.8.5"
  }
 },
 "nbformat": 4,
 "nbformat_minor": 4
}
